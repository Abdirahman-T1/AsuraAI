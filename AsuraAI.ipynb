{
  "cells": [
    {
      "cell_type": "markdown",
      "metadata": {
        "id": "view-in-github",
        "colab_type": "text"
      },
      "source": [
        "<a href=\"https://colab.research.google.com/github/Abdirahman-T1/AsuraAI/blob/main/AsuraAI.ipynb\" target=\"_parent\"><img src=\"https://colab.research.google.com/assets/colab-badge.svg\" alt=\"Open In Colab\"/></a>"
      ]
    },
    {
      "cell_type": "code",
      "execution_count": 6,
      "metadata": {
        "colab": {
          "base_uri": "https://localhost:8080/"
        },
        "id": "4etYLQoHxbf8",
        "outputId": "9b115009-e3a5-4ac4-cc96-c6f86e69e9b4"
      },
      "outputs": [
        {
          "output_type": "stream",
          "name": "stdout",
          "text": [
            "Hi im Asura AI\n",
            "User: goodbye\n",
            "Asura: Goodbye,Have a great day.\n"
          ]
        }
      ],
      "source": [
        "import random\n",
        "\n",
        "print(\"Hi im Asura AI\")\n",
        "\n",
        "while True:\n",
        "\n",
        "  user = input(\"User: \").lower()\n",
        "\n",
        "  if (user in [\"hi\",\"hello\",\"yo\"]):\n",
        "    print(\"Asura: Hi how can i help You? \")\n",
        "\n",
        "  elif (user in [\"how you doing\",\"how are you\",\"how you doin\"]):\n",
        "    print(\"Asura: I'm doing fine, what about you\")\n",
        "\n",
        "  elif(user in [\"i am doing fine\",\"i am fine\"]):\n",
        "    print(\"Asura: Thats good\")\n",
        "\n",
        "  elif(user in [\"what is your name\",\"what do i call you\"]):\n",
        "    print(\"Asura: My name is Asura it a pleasure to meet you,and whats your name\")\n",
        "    user_name = input(\"my name is: \")\n",
        "    print(\"Asura: It is a pleasure to meet you \" + user_name)\n",
        "\n",
        "  elif(user in [\"can you do simple calculation\",\"can you do maths\",\"are you good with calculations \"]):\n",
        "    print(\"Asura: of course i can, I am here to assist\"+'\\n'+ \"Asura: to get started please enter your fist and second number\")\n",
        "\n",
        "    firstNum = float(input(\"first number: \"))\n",
        "    secondNum = float(input(\"second number: \"))\n",
        "    choice = input(\"Asura: please use one of these options\"+\n",
        "              \"\\n\" + \"use this for add: +\" +\n",
        "               \"\\n\" + \"use this for subtract: -\" +\n",
        "              \"\\n\" + \"use this for divide: /\"+\n",
        "               \"\\n\" + \"use this for multiply: *\" + \"\\n\")\n",
        "\n",
        "    if (choice == \"+\"):\n",
        "      result = firstNum + secondNum\n",
        "    elif (choice == \"-\"):\n",
        "      result = firstNum - secondNum\n",
        "    elif (choice == \"*\"):\n",
        "      result = firstNum * secondNum\n",
        "    elif (choice == \"/\"):\n",
        "      if (secondNum != 0):\n",
        "        result = firstNum / secondNum\n",
        "      else:\n",
        "        result = \"Asura: error division by zero\"\n",
        "    else:\n",
        "      print(\"Asura: invalid operation\")\n",
        "    print(\"Asura: The answer to your question is: \",result)\n",
        "\n",
        "  elif(user in [\"i want to play a guessing game\",\"can i play a guessing game\",\"can i play a game\",\"can i play agian\",\"another one\",\"one more time\"]):\n",
        "    print(\"Asura: As you command, here is a guessing game where you guess a number between 0-100 \")\n",
        "    random_num = random.randint(0,100)\n",
        "\n",
        "    while True:\n",
        "      guess = int(input(\"Asura: guess a number between 1 and 100 \"))\n",
        "      if guess < random_num:\n",
        "        print(\"Asura: your cold\")\n",
        "      if guess > random_num:\n",
        "        print(\"Asura: your too hot\")\n",
        "      if guess == random_num:\n",
        "        print(\"Asura: your correct congratulation\")\n",
        "        break\n",
        "\n",
        "  elif(user in [\"can you tell me a joke\",\"tell me a joke\",\"make me laugh\",\"tell me another one\"]):\n",
        "    jokes = [\"What does a storm cloud wear under his raincoat? Thunderwear.\",\n",
        "          \"C and C++ went to a five star bar, C was stopped by the gate guards because C got no class.\",\n",
        "          \"Why did the two Java methods get a divorce? Because they had constant arguments.\"]\n",
        "    print(\"Asura: \"+ random.choice(jokes))\n",
        "\n",
        "  elif(user in [\"goodbye\",\"bye\",]):\n",
        "    print(\"Asura: Goodbye,Have a great day.\")\n",
        "    break\n",
        "\n",
        "  else:\n",
        "    print(\"Asura: i am not at that level yet\")\n",
        "\n",
        "\n"
      ]
    }
  ],
  "metadata": {
    "colab": {
      "provenance": [],
      "authorship_tag": "ABX9TyM91Lh7nu4oFBuD+N+QkxG6",
      "include_colab_link": true
    },
    "kernelspec": {
      "display_name": "Python 3",
      "name": "python3"
    },
    "language_info": {
      "name": "python"
    }
  },
  "nbformat": 4,
  "nbformat_minor": 0
}