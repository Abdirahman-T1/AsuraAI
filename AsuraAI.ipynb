{
  "nbformat": 4,
  "nbformat_minor": 0,
  "metadata": {
    "colab": {
      "provenance": [],
      "authorship_tag": "ABX9TyMn7hoOKmlryhmVhcdEDadI",
      "include_colab_link": true
    },
    "kernelspec": {
      "name": "python3",
      "display_name": "Python 3"
    },
    "language_info": {
      "name": "python"
    }
  },
  "cells": [
    {
      "cell_type": "markdown",
      "metadata": {
        "id": "view-in-github",
        "colab_type": "text"
      },
      "source": [
        "<a href=\"https://colab.research.google.com/github/Abdirahman-T1/AsuraAI/blob/main/AsuraAI.ipynb\" target=\"_parent\"><img src=\"https://colab.research.google.com/assets/colab-badge.svg\" alt=\"Open In Colab\"/></a>"
      ]
    },
    {
      "cell_type": "code",
      "execution_count": null,
      "metadata": {
        "colab": {
          "base_uri": "https://localhost:8080/"
        },
        "id": "4etYLQoHxbf8",
        "outputId": "e855dea9-6bf0-4cb1-86df-74c534079275"
      },
      "outputs": [
        {
          "output_type": "stream",
          "name": "stdout",
          "text": [
            "Hi im Asura AI\n",
            "User: can i play a game\n",
            "Asura: As you command, here is a guessing game where you guess a number between 0-100 \n",
            "Asura: guess a number between 1 and 100 100\n",
            "Asura: your too hot\n",
            "Asura: guess a number between 1 and 100 50\n",
            "Asura: your too hot\n",
            "Asura: guess a number between 1 and 100 30\n",
            "Asura: your too hot\n",
            "Asura: guess a number between 1 and 100 20\n",
            "Asura: your too hot\n",
            "Asura: guess a number between 1 and 100 16\n",
            "Asura: your too hot\n",
            "Asura: guess a number between 1 and 100 14\n",
            "Asura: your too hot\n",
            "Asura: guess a number between 1 and 100 10\n",
            "Asura: your too hot\n",
            "Asura: guess a number between 1 and 100 8\n",
            "Asura: your too hot\n",
            "Asura: guess a number between 1 and 100 7\n",
            "Asura: your too hot\n",
            "Asura: guess a number between 1 and 100 6\n",
            "Asura: your too hot\n",
            "Asura: guess a number between 1 and 100 5\n",
            "Asura: your too hot\n",
            "Asura: guess a number between 1 and 100 3\n",
            "Asura: your too hot\n",
            "Asura: guess a number between 1 and 100 2\n",
            "Asura: your too hot\n",
            "Asura: guess a number between 1 and 100 1\n",
            "Asura: your correct congratulation\n",
            "User: another one\n",
            "Asura: As you command, you know the rules \n"
          ]
        }
      ],
      "source": [
        "import random\n",
        "print(\"Hi im Asura AI\")\n",
        "while True:\n",
        "  user = input(\"User: \").lower()\n",
        "  if (user in [\"hi\",\"hello\",\"yo\"]):\n",
        "    print(\"Asura: Hi how can i help You? \")\n",
        "  elif (user in [\"how you doing\",\"how are you\",\"how you doin\"]):\n",
        "    print(\"Asura: I'm doing fine, what about you\")\n",
        "  elif(user in [\"i am doing fine\",\"i am fine\"]):\n",
        "    print(\"Asura: Thats good\")\n",
        "  elif(user in [\"what is your name\",\"what do i call you\"]):\n",
        "    print(\"Asura: My name is Asura it a pleasure to meet you,and whats your name\")\n",
        "    user_name = input(\"my name is: \")\n",
        "    print(\"Asura: It is a pleasure to meet you \" + user_name)\n",
        "  elif(user in [\"can you do simple calculation\",\"can you do maths\",\"are you good with calculations \"]):\n",
        "    print(\"Asura: of course i can, I am here to assist\"+'\\n'+ \"Asura: to get started please enter your fist and second number\")\n",
        "    firstNum = float(input(\"first number: \"))\n",
        "    secondNum = float(input(\"second number: \"))\n",
        "    choice = input(\"Asura: please use one of these options\"+\n",
        "              \"\\n\" + \"use this for add: +\" +\n",
        "               \"\\n\" + \"use this for subtract: -\" +\n",
        "              \"\\n\" + \"use this for divide: /\"+\n",
        "               \"\\n\" + \"use this for multiply: *\" + \"\\n\")\n",
        "    if (choice == \"+\"):\n",
        "      result = firstNum + secondNum\n",
        "    elif (choice == \"-\"):\n",
        "      result = firstNum - secondNum\n",
        "    elif (choice == \"*\"):\n",
        "      result = firstNum * secondNum\n",
        "    elif (choice == \"/\"):\n",
        "      if (secondNum != 0):\n",
        "        result = firstNum / secondNum\n",
        "      else:\n",
        "        result = \"Asura: error division by zero\"\n",
        "    else:\n",
        "      print(\"Asura: invalid operation\")\n",
        "    print(\"Asura: The answer to your question is: \",result)\n",
        "  elif(user in [\"i want to play a guessing game\",\"can i play a guessing game\",\"can i play a game\"]):\n",
        "    print(\"Asura: As you command, here is a guessing game where you guess a number between 0-100 \")\n",
        "    random_num = random.randint(0,100)\n",
        "    while True:\n",
        "      guess = int(input(\"Asura: guess a number between 1 and 100 \"))\n",
        "      if guess < random_num:\n",
        "        print(\"Asura: your cold\")\n",
        "      if guess > random_num:\n",
        "        print(\"Asura: your too hot\")\n",
        "      if guess == random_num:\n",
        "        print(\"Asura: your correct congratulation\")\n",
        "        break\n",
        "  elif(user in [\"can i play agian\",\"another one\",\"one more time\"]):\n",
        "    print(\"Asura: As you command, you know the rules \")\n",
        "    random_num = random.randint(0,100)\n",
        "    while True:\n",
        "      guess = int(input(\"Asura: guess a number between 1 and 100 \"))\n",
        "      if guess < random_num:\n",
        "        print(\"Asura: your cold\")\n",
        "      if guess > random_num:\n",
        "        print(\"Asura: your too hot\")\n",
        "      if guess == random_num:\n",
        "        print(\"Asura: your correct congratulation\")\n",
        "        break\n",
        "  else:\n",
        "    print(\"Asura: i am not at that level yet\")\n",
        "\n",
        "\n"
      ]
    }
  ]
}